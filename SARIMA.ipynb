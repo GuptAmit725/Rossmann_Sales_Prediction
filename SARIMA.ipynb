{
  "nbformat": 4,
  "nbformat_minor": 0,
  "metadata": {
    "colab": {
      "name": "SARIMA.ipynb",
      "private_outputs": true,
      "provenance": []
    },
    "kernelspec": {
      "name": "python3",
      "display_name": "Python 3"
    },
    "language_info": {
      "name": "python"
    },
    "accelerator": "GPU"
  },
  "cells": [
    {
      "cell_type": "code",
      "execution_count": null,
      "metadata": {
        "id": "cRpUHSWWSYDB"
      },
      "outputs": [],
      "source": [
        "!unzip /content/rossmann-store-sales.zip"
      ]
    },
    {
      "cell_type": "markdown",
      "source": [
        "<h2>Importing all the important libraries"
      ],
      "metadata": {
        "id": "MULEEZeYYaft"
      }
    },
    {
      "cell_type": "code",
      "source": [
        "import pandas as pd\n",
        "import numpy as np\n",
        "import matplotlib.pyplot as plt\n",
        "import seaborn as sns\n",
        "import pickle\n",
        "from sklearn.linear_model import LinearRegression\n",
        "from sklearn.preprocessing import PolynomialFeatures\n",
        "from sklearn.metrics import r2_score\n",
        "from sklearn.metrics import r2_score\n",
        "from tqdm import tqdm\n",
        "import datetime\n",
        "import warnings\n",
        "warnings.filterwarnings('ignore')\n",
        "from statsmodels.tsa.statespace.sarimax import SARIMAX\n",
        "from statsmodels.tsa.statespace.sarimax import SARIMAXResults"
      ],
      "metadata": {
        "id": "_7klgnsjTIap"
      },
      "execution_count": null,
      "outputs": []
    },
    {
      "cell_type": "markdown",
      "source": [
        "<h2>Loading the data"
      ],
      "metadata": {
        "id": "C5WVT3d6YgAW"
      }
    },
    {
      "cell_type": "code",
      "source": [
        "train = pd.read_csv('train.csv')\n",
        "test = pd.read_csv('test.csv')\n",
        "store = pd.read_csv('store.csv')"
      ],
      "metadata": {
        "id": "87sWGtQFTAkL"
      },
      "execution_count": null,
      "outputs": []
    },
    {
      "cell_type": "code",
      "source": [
        "train.info()"
      ],
      "metadata": {
        "id": "Eea-xZsfTZXy"
      },
      "execution_count": null,
      "outputs": []
    },
    {
      "cell_type": "code",
      "source": [
        "store.info()"
      ],
      "metadata": {
        "id": "r3t2tDp5TbwO"
      },
      "execution_count": null,
      "outputs": []
    },
    {
      "cell_type": "code",
      "source": [
        "train.head()"
      ],
      "metadata": {
        "id": "jCmi8d3pThcs"
      },
      "execution_count": null,
      "outputs": []
    },
    {
      "cell_type": "code",
      "source": [
        "store.head()"
      ],
      "metadata": {
        "id": "6KJgagpjTpQx"
      },
      "execution_count": null,
      "outputs": []
    },
    {
      "cell_type": "code",
      "source": [
        "store_1 = train[train['Store']==1] #Time series analysis for only one store"
      ],
      "metadata": {
        "id": "aH5M8xMCUx0Q"
      },
      "execution_count": null,
      "outputs": []
    },
    {
      "cell_type": "code",
      "source": [
        "store_1 = store_1.iloc[::-1] # Reversing the data, sorting with the dates in ascending order"
      ],
      "metadata": {
        "id": "PQ5I5aBIXTvn"
      },
      "execution_count": null,
      "outputs": []
    },
    {
      "cell_type": "code",
      "source": [
        "store_1['day_number'] = np.arange(store_1['Store'].shape[0]) + 1 \n",
        "store_1"
      ],
      "metadata": {
        "id": "EGcHGkmsVpL6"
      },
      "execution_count": null,
      "outputs": []
    },
    {
      "cell_type": "code",
      "source": [
        "#getting x and y\n",
        "X = store_1[['day_number']]\n",
        "y = store_1['Sales']"
      ],
      "metadata": {
        "id": "K4i72DY2Wor_"
      },
      "execution_count": null,
      "outputs": []
    },
    {
      "cell_type": "code",
      "source": [
        "def plot_trend(X,y):\n",
        "  '''\n",
        "  For plotting a dependent variable\n",
        "  '''\n",
        "  plt.figure(figsize=(20,5))\n",
        "  plt.scatter(X,y,color='darkblue')\n",
        "  plt.xlabel('per day',fontsize=20)\n",
        "  plt.ylabel('Sales',fontsize=20)\n",
        "  plt.title('Sales over days',fontsize=20)\n",
        "  plt.grid(True)\n",
        "  plt.show()"
      ],
      "metadata": {
        "id": "flN_GJbvYSWr"
      },
      "execution_count": null,
      "outputs": []
    },
    {
      "cell_type": "code",
      "source": [
        "plot_trend(X,y)"
      ],
      "metadata": {
        "id": "jcjdYAufa8R5"
      },
      "execution_count": null,
      "outputs": []
    },
    {
      "cell_type": "markdown",
      "source": [
        "<h2>Checking for the Linear Regression"
      ],
      "metadata": {
        "id": "yrR3dSLYZFq-"
      }
    },
    {
      "cell_type": "code",
      "source": [
        "lr = LinearRegression()\n",
        "lr.fit(X,y)\n",
        "lr_pred = lr.predict(X)\n",
        "\n",
        "plt.figure(figsize=(23,5))\n",
        "plt.scatter(X,y,color='darkblue')\n",
        "plt.plot(X,lr_pred,color='red')\n",
        "plt.legend(['Predicted','True'])\n",
        "plt.xlabel('per day',fontsize=20)\n",
        "plt.ylabel('Sales',fontsize=20)\n",
        "plt.title('Lr predicted vs truth',fontsize=20)\n",
        "plt.grid(True)\n",
        "plt.show()"
      ],
      "metadata": {
        "id": "4YRUYxyPZTUV"
      },
      "execution_count": null,
      "outputs": []
    },
    {
      "cell_type": "code",
      "source": [
        "'''\n",
        "It is clear that when sales are 0 it should not be a Sunday. \n",
        "\n",
        "'''\n",
        "\n",
        "sale_when_store_was_closed = store_1[store_1['DayOfWeek']==7][store_1['Sales']==0].shape[0]\n",
        "print(\n",
        "      f'''Sales has to be 0 when the day is sunday, \n",
        "          so total rows with 0 sales and week day 7 : \n",
        "          {sale_when_store_was_closed}\n",
        "      '''\n",
        "    )"
      ],
      "metadata": {
        "id": "t7nDBv87arqV"
      },
      "execution_count": null,
      "outputs": []
    },
    {
      "cell_type": "markdown",
      "source": [
        "*Removing the data with week day 7.*"
      ],
      "metadata": {
        "id": "CP1gmuiGg-bq"
      }
    },
    {
      "cell_type": "code",
      "source": [
        "#Removing all the rows with sales=0 and DayOfWeek=7(sunday)\n",
        "store_1 = store_1[store_1['DayOfWeek']!=7]\n",
        "store_1.shape"
      ],
      "metadata": {
        "id": "0Qk7UaSYav6f"
      },
      "execution_count": null,
      "outputs": []
    },
    {
      "cell_type": "code",
      "source": [
        "#This function compares the original and predicted values.\n",
        "def compare_with_truth(X,y,y_pred,degree):\n",
        "  plt.figure(figsize=(23,5))\n",
        "  plt.scatter(X,y,color='darkblue')\n",
        "  plt.plot(X,y_pred,color='red')\n",
        "  plt.legend(['Predicted','True'])\n",
        "  plt.xlabel('per day',fontsize=20)\n",
        "  plt.ylabel('Sales',fontsize=20)\n",
        "  plt.title(f'Degree = {degree}',fontsize=20)\n",
        "  plt.grid(True)\n",
        "  plt.show()"
      ],
      "metadata": {
        "id": "aFc_Z-UBf4oi"
      },
      "execution_count": null,
      "outputs": []
    },
    {
      "cell_type": "markdown",
      "source": [
        "<h1>Experimenting with lag"
      ],
      "metadata": {
        "id": "UzKX60rPiWSq"
      }
    },
    {
      "cell_type": "code",
      "source": [
        "lag_1 = X.shift(1)"
      ],
      "metadata": {
        "id": "ARqaCt4ghhuQ"
      },
      "execution_count": null,
      "outputs": []
    },
    {
      "cell_type": "code",
      "source": [
        "n = 11\n",
        "poly_lr = PolynomialFeatures(degree=n)\n",
        "X_poly = poly_lr.fit_transform(X)\n",
        "X_poly.shape"
      ],
      "metadata": {
        "id": "iCtjEFyJieI3"
      },
      "execution_count": null,
      "outputs": []
    },
    {
      "cell_type": "code",
      "source": [
        "#Checking the dependence of multiorder of the past values\n",
        "for i in range(1,12):\n",
        "  lr = LinearRegression()\n",
        "  lr.fit(X_poly[:,i].reshape(-1,1),y)\n",
        "  lr_pred = lr.predict(X_poly[:,i].reshape(-1,1))\n",
        "  r_square = r2_score(lr_pred,y)\n",
        "  compare_with_truth(X_poly[:,i],y,lr_pred,f' = {i} with R2 score : {r_square}')"
      ],
      "metadata": {
        "id": "O884-ihpjLSq"
      },
      "execution_count": null,
      "outputs": []
    },
    {
      "cell_type": "code",
      "source": [
        "#Checking for the lag dependency\n",
        "lr = LinearRegression()\n",
        "x = np.array(y.shift(1).dropna()).reshape(-1,1)\n",
        "lr.fit(x,y[1:])\n",
        "lr_pred = lr.predict(x)\n",
        "r_square = r2_score(lr_pred,y[1:])\n",
        "compare_with_truth(y.shift(1)[1:],y[1:],lr_pred,f'lag = {1} with R2 score : {r_square}')"
      ],
      "metadata": {
        "id": "K_NVJ1ablgfD"
      },
      "execution_count": null,
      "outputs": []
    },
    {
      "cell_type": "code",
      "source": [
        "def getting_the_best_window(x,y_x,y_pred,n):\n",
        "\n",
        "  '''\n",
        "  \n",
        "  Moving average could be an important feature but the degree has\n",
        "  to be decided. So checking the degree of moving average.\n",
        "  \n",
        "  '''\n",
        "  r_square = r2_score(y_pred,y_x)\n",
        "  title = f'Moving average with window = {n} and with R2 score : {r_square}'\n",
        "  plt.figure(figsize=(23,5))\n",
        "  plt.scatter(x,y_x,color='darkblue')\n",
        "  plt.plot(x,MA,color='red')\n",
        "  plt.legend(['Predicted','True'])\n",
        "  plt.xlabel('per day',fontsize=20)\n",
        "  plt.ylabel('Sales',fontsize=20)\n",
        "  plt.title(title,fontsize=20)\n",
        "  plt.grid(True)\n",
        "  plt.show()"
      ],
      "metadata": {
        "id": "7n5AfIANQqiu"
      },
      "execution_count": null,
      "outputs": []
    },
    {
      "cell_type": "code",
      "source": [
        "for n in range(3,10):\n",
        "  x = store_1['day_number'].iloc[n-1:]\n",
        "  y_x = store_1['Sales']\n",
        "  MA = y_x.rolling(window=n).mean()\n",
        "  MA = MA.iloc[n-1:]\n",
        "  getting_the_best_window(x,y_x[n-1:],MA,n)"
      ],
      "metadata": {
        "id": "yRPw1n_oSgY_"
      },
      "execution_count": null,
      "outputs": []
    },
    {
      "cell_type": "markdown",
      "source": [
        "<h2>Model Training"
      ],
      "metadata": {
        "id": "PgFzh4Keaa0K"
      }
    },
    {
      "cell_type": "code",
      "source": [
        "#Training the SARIMA model\n",
        "p = [1] #AR value : the degree of lag\n",
        "d = [1] #Integration : degree for calculating the past differences.\n",
        "g = [3] #Moving average window\n",
        "S = [12] # 52: weekly, 12:Monthly, 4:quarterly, 3:Yearly\n",
        "t_start = datetime.datetime.now()\n",
        "\n",
        "metrics = {}\n",
        "x_tr = store_1['Sales'].iloc[0:700]\n",
        "x_test = store_1['Sales'].iloc[700:800]\n",
        "for P in tqdm(p,colour='#db7501'):\n",
        "  for D in d:\n",
        "    for G in g:\n",
        "      for s in S:\n",
        "        \n",
        "        s_mod = SARIMAX(\n",
        "                        x_tr, \n",
        "                        order=(P,D,G), \n",
        "                        seasonal_order=(P,D,G,s),\n",
        "                        enforce_stationarity=False,\n",
        "                        enforce_invertibility=False\n",
        "                        )\n",
        "        s_fit = s_mod.fit(disp=0)\n",
        "        predictions = s_fit.predict(start=700, end=799, exog=None, dynamic=False)\n",
        "\n",
        "        r_square = r2_score(x_test,predictions)\n",
        "        metrics[f'({P},{D},{G},{s})'] = r_square\n",
        "        print(f'params : ({P},{D},{G},{s}), score : {r_square}')\n",
        "t_end = datetime.datetime.now()\n",
        "\n",
        "print(f'Total time taken for training : {t_end - t_start}')"
      ],
      "metadata": {
        "id": "sa6VFQwNT5VR"
      },
      "execution_count": null,
      "outputs": []
    },
    {
      "cell_type": "markdown",
      "source": [
        "<h2>Model Testing"
      ],
      "metadata": {
        "id": "-WKduEO7ae5M"
      }
    },
    {
      "cell_type": "code",
      "source": [
        "title = f'Moving average with window = {n} and with R2 score : {r_square}'\n",
        "plt.figure(figsize=(23,5))\n",
        "plt.plot(store_1['day_number'].iloc[700:800],x_test,color='darkblue')\n",
        "plt.scatter(store_1['day_number'].iloc[700:800],x_test,color='blue',s=100)\n",
        "plt.plot(store_1['day_number'].iloc[700:800],predictions,color='red')\n",
        "plt.legend(['Predicted','True'])\n",
        "plt.xlabel('per day',fontsize=20)\n",
        "plt.ylabel('Sales',fontsize=20)\n",
        "plt.title(title,fontsize=20)\n",
        "plt.grid(True)\n",
        "plt.show()"
      ],
      "metadata": {
        "id": "GXEUwwVQbC6t"
      },
      "execution_count": null,
      "outputs": []
    },
    {
      "cell_type": "markdown",
      "source": [
        "<h2>Saving the model"
      ],
      "metadata": {
        "id": "RJ7lLAd-bKPp"
      }
    },
    {
      "cell_type": "code",
      "source": [
        "store_1['Sales'].to_csv('sales.csv',index=False)"
      ],
      "metadata": {
        "id": "7viVrNuGeaeu"
      },
      "execution_count": null,
      "outputs": []
    },
    {
      "cell_type": "code",
      "source": [
        "s_fit.save('model.pkl')"
      ],
      "metadata": {
        "id": "-lVt15NR6dn1"
      },
      "execution_count": null,
      "outputs": []
    }
  ]
}